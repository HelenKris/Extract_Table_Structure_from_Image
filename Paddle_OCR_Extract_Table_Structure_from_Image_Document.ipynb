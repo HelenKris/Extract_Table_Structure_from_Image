{
  "cells": [
    {
      "cell_type": "markdown",
      "id": "NwS5EleVO5K2",
      "metadata": {
        "id": "NwS5EleVO5K2"
      },
      "source": [
        "# **Задача переноса табличных данных с сохранением структуры с фотографии в файл Excel c помощью PaddleOCR**"
      ]
    },
    {
      "cell_type": "markdown",
      "id": "ig9YCwXU6jEI",
      "metadata": {
        "id": "ig9YCwXU6jEI"
      },
      "source": [
        "\n",
        "1. Install and Import Dependencies\n",
        "\n",
        "https://github.com/PaddlePaddle/PaddleOCR/blob/release/2.7/ppstructure/docs/quickstart_en.md\n",
        "\n",
        "\n",
        "If you have CUDA 9 or CUDA 10 installed on your machine, please run the following command to install\n",
        "\n",
        "python3 -m pip install paddlepaddle-gpu -i https://mirror.baidu.com/pypi/simple\n",
        "If you have no available GPU on your machine, please run the following command to install the CPU version"
      ]
    },
    {
      "cell_type": "code",
      "execution_count": 1,
      "id": "-4silMbVO6XR",
      "metadata": {
        "id": "-4silMbVO6XR"
      },
      "outputs": [],
      "source": [
        "%%capture\n",
        "!python -m pip install paddlepaddle -i https://mirror.baidu.com/pypi/simple\n"
      ]
    },
    {
      "cell_type": "code",
      "execution_count": 2,
      "id": "VajnDKZYPQ36",
      "metadata": {
        "id": "VajnDKZYPQ36"
      },
      "outputs": [],
      "source": [
        "%%capture\n",
        "!pip install \"paddleocr>=2.6.0.3\"\n"
      ]
    },
    {
      "cell_type": "code",
      "execution_count": 3,
      "id": "ImPkm8rTP7kA",
      "metadata": {
        "colab": {
          "base_uri": "https://localhost:8080/"
        },
        "id": "ImPkm8rTP7kA",
        "outputId": "78bd200f-56b9-4f51-f568-cd6a1b9dcc0d"
      },
      "outputs": [
        {
          "name": "stdout",
          "output_type": "stream",
          "text": [
            "[2023/12/08 10:16:53] ppocr DEBUG: Namespace(help='==SUPPRESS==', use_gpu=False, use_xpu=False, use_npu=False, ir_optim=True, use_tensorrt=False, min_subgraph_size=15, precision='fp32', gpu_mem=500, gpu_id=0, image_dir=None, page_num=0, det_algorithm='DB', det_model_dir='/root/.paddleocr/whl/det/ch/ch_PP-OCRv4_det_infer', det_limit_side_len=960, det_limit_type='max', det_box_type='quad', det_db_thresh=0.3, det_db_box_thresh=0.6, det_db_unclip_ratio=1.5, max_batch_size=10, use_dilation=False, det_db_score_mode='fast', det_east_score_thresh=0.8, det_east_cover_thresh=0.1, det_east_nms_thresh=0.2, det_sast_score_thresh=0.5, det_sast_nms_thresh=0.2, det_pse_thresh=0, det_pse_box_thresh=0.85, det_pse_min_area=16, det_pse_scale=1, scales=[8, 16, 32], alpha=1.0, beta=1.0, fourier_degree=5, rec_algorithm='SVTR_LCNet', rec_model_dir='/root/.paddleocr/whl/rec/ch/ch_PP-OCRv4_rec_infer', rec_image_inverse=True, rec_image_shape='3, 48, 320', rec_batch_num=6, max_text_length=40, rec_char_dict_path='/usr/local/lib/python3.10/dist-packages/paddleocr/ppocr/utils/ppocr_keys_v1.txt', use_space_char=True, vis_font_path='./doc/fonts/simfang.ttf', drop_score=0.5, e2e_algorithm='PGNet', e2e_model_dir=None, e2e_limit_side_len=768, e2e_limit_type='max', e2e_pgnet_score_thresh=0.5, e2e_char_dict_path='./ppocr/utils/ic15_dict.txt', e2e_pgnet_valid_set='totaltext', e2e_pgnet_mode='fast', use_angle_cls=False, cls_model_dir=None, cls_image_shape='3, 48, 192', label_list=['0', '180'], cls_batch_num=6, cls_thresh=0.9, enable_mkldnn=False, cpu_threads=10, use_pdserving=False, warmup=False, sr_model_dir=None, sr_image_shape='3, 32, 128', sr_batch_num=1, draw_img_save_dir='./inference_results', save_crop_res=False, crop_res_save_dir='./output', use_mp=False, total_process_num=1, process_id=0, benchmark=False, save_log_path='./log_output/', show_log=True, use_onnx=False, output='./output', table_max_len=488, table_algorithm='TableAttn', table_model_dir='/root/.paddleocr/whl/table/ch_ppstructure_mobile_v2.0_SLANet_infer', merge_no_span_structure=True, table_char_dict_path='/usr/local/lib/python3.10/dist-packages/paddleocr/ppocr/utils/dict/table_structure_dict_ch.txt', layout_model_dir='/root/.paddleocr/whl/layout/picodet_lcnet_x1_0_fgd_layout_cdla_infer', layout_dict_path='/usr/local/lib/python3.10/dist-packages/paddleocr/ppocr/utils/dict/layout_dict/layout_cdla_dict.txt', layout_score_threshold=0.5, layout_nms_threshold=0.5, kie_algorithm='LayoutXLM', ser_model_dir=None, re_model_dir=None, use_visual_backbone=True, ser_dict_path='../train_data/XFUND/class_list_xfun.txt', ocr_order_method=None, mode='structure', image_orientation=False, layout=True, table=True, ocr=True, recovery=False, use_pdf2docx_api=False, invert=False, binarize=False, alphacolor=(255, 255, 255), lang='ch', det=True, rec=True, type='ocr', ocr_version='PP-OCRv4', structure_version='PP-StructureV2')\n"
          ]
        }
      ],
      "source": [
        "import os\n",
        "import cv2\n",
        "from paddleocr import PPStructure,draw_structure_result,save_structure_res\n",
        "\n",
        "table_engine = PPStructure(show_log=True, max_text_length=40)\n"
      ]
    },
    {
      "cell_type": "code",
      "execution_count": 4,
      "id": "JoQA5QnhS3sc",
      "metadata": {
        "colab": {
          "base_uri": "https://localhost:8080/"
        },
        "id": "JoQA5QnhS3sc",
        "outputId": "ca50af93-a366-4792-df5e-ce19d432b434"
      },
      "outputs": [
        {
          "name": "stdout",
          "output_type": "stream",
          "text": [
            "[2023/12/08 10:17:22] ppocr DEBUG: Namespace(help='==SUPPRESS==', use_gpu=False, use_xpu=False, use_npu=False, ir_optim=True, use_tensorrt=False, min_subgraph_size=15, precision='fp32', gpu_mem=500, gpu_id=0, image_dir=None, page_num=0, det_algorithm='DB', det_model_dir='/root/.paddleocr/whl/det/ch/ch_PP-OCRv4_det_infer', det_limit_side_len=960, det_limit_type='max', det_box_type='quad', det_db_thresh=0.3, det_db_box_thresh=0.6, det_db_unclip_ratio=1.5, max_batch_size=10, use_dilation=False, det_db_score_mode='fast', det_east_score_thresh=0.8, det_east_cover_thresh=0.1, det_east_nms_thresh=0.2, det_sast_score_thresh=0.5, det_sast_nms_thresh=0.2, det_pse_thresh=0, det_pse_box_thresh=0.85, det_pse_min_area=16, det_pse_scale=1, scales=[8, 16, 32], alpha=1.0, beta=1.0, fourier_degree=5, rec_algorithm='SVTR_LCNet', rec_model_dir='/root/.paddleocr/whl/rec/ch/ch_PP-OCRv4_rec_infer', rec_image_inverse=True, rec_image_shape='3, 48, 320', rec_batch_num=6, max_text_length=25, rec_char_dict_path='/usr/local/lib/python3.10/dist-packages/paddleocr/ppocr/utils/ppocr_keys_v1.txt', use_space_char=True, vis_font_path='./doc/fonts/simfang.ttf', drop_score=0.5, e2e_algorithm='PGNet', e2e_model_dir=None, e2e_limit_side_len=768, e2e_limit_type='max', e2e_pgnet_score_thresh=0.5, e2e_char_dict_path='./ppocr/utils/ic15_dict.txt', e2e_pgnet_valid_set='totaltext', e2e_pgnet_mode='fast', use_angle_cls=False, cls_model_dir=None, cls_image_shape='3, 48, 192', label_list=['0', '180'], cls_batch_num=6, cls_thresh=0.9, enable_mkldnn=False, cpu_threads=10, use_pdserving=False, warmup=False, sr_model_dir=None, sr_image_shape='3, 32, 128', sr_batch_num=1, draw_img_save_dir='./inference_results', save_crop_res=False, crop_res_save_dir='./output', use_mp=False, total_process_num=1, process_id=0, benchmark=False, save_log_path='./log_output/', show_log=True, use_onnx=False, output='./output', table_max_len=488, table_algorithm='TableAttn', table_model_dir='/root/.paddleocr/whl/table/ch_ppstructure_mobile_v2.0_SLANet_infer', merge_no_span_structure=True, table_char_dict_path='/usr/local/lib/python3.10/dist-packages/paddleocr/ppocr/utils/dict/table_structure_dict_ch.txt', layout_model_dir='/root/.paddleocr/whl/layout/picodet_lcnet_x1_0_fgd_layout_cdla_infer', layout_dict_path='/usr/local/lib/python3.10/dist-packages/paddleocr/ppocr/utils/dict/layout_dict/layout_cdla_dict.txt', layout_score_threshold=0.5, layout_nms_threshold=0.5, kie_algorithm='LayoutXLM', ser_model_dir=None, re_model_dir=None, use_visual_backbone=True, ser_dict_path='../train_data/XFUND/class_list_xfun.txt', ocr_order_method=None, mode='structure', image_orientation=False, layout=False, table=True, ocr=True, recovery=False, use_pdf2docx_api=False, invert=False, binarize=False, alphacolor=(255, 255, 255), lang='ch', det=True, rec=True, type='ocr', ocr_version='PP-OCRv4', structure_version='PP-StructureV2')\n",
            "[2023/12/08 10:17:22] ppocr WARNING: When args.layout is false, args.ocr is automatically set to false\n",
            "[2023/12/08 10:17:28] ppocr DEBUG: dt_boxes num : 43, elapse : 0.4498786926269531\n",
            "[2023/12/08 10:17:34] ppocr DEBUG: rec_res num  : 43, elapse : 6.094667434692383\n",
            "{'type': 'table', 'bbox': [0, 0, 610, 390], 'res': {'cell_bbox': [[75.50497436523438, 2.8995440006256104, 561.7968139648438, 3.013172149658203, 563.6923828125, 37.714202880859375, 79.37321472167969, 37.13080596923828], [6.8448805809021, 60.61308670043945, 66.1652603149414, 61.06171417236328, 65.24868774414062, 100.47418212890625, 6.683028697967529, 99.40836334228516], [72.49996948242188, 59.084808349609375, 181.29815673828125, 59.30010986328125, 180.3971710205078, 92.07313537597656, 72.05970764160156, 91.69026947021484], [182.70469665527344, 56.697486877441406, 330.3331604003906, 57.495601654052734, 326.98095703125, 91.12775421142578, 180.05177307128906, 90.30117797851562], [329.3517761230469, 58.06401443481445, 503.3802185058594, 59.08558654785156, 500.9102783203125, 93.01298522949219, 325.95147705078125, 91.973876953125], [507.76556396484375, 55.019615173339844, 605.760498046875, 56.443206787109375, 605.5715942382812, 94.62828063964844, 505.9345703125, 92.84046936035156], [8.621940612792969, 97.2673568725586, 58.98582077026367, 98.9073257446289, 58.588829040527344, 130.3284454345703, 8.478477478027344, 128.37637329101562], [67.09832000732422, 95.81944274902344, 173.1291961669922, 97.20072937011719, 171.95619201660156, 125.56529235839844, 66.43948364257812, 124.23172760009766], [177.14390563964844, 93.7974624633789, 318.9826965332031, 95.3750991821289, 317.242431640625, 127.37915802001953, 175.6402587890625, 125.91132354736328], [333.17913818359375, 93.58676147460938, 505.3927917480469, 94.6411361694336, 503.6115417480469, 126.05484008789062, 330.5363464355469, 125.25184631347656], [509.77374267578125, 91.82553100585938, 605.4325561523438, 93.16573333740234, 605.2814331054688, 125.80086517333984, 507.8927917480469, 124.78413391113281], [9.244962692260742, 129.45333862304688, 60.56471633911133, 130.05027770996094, 60.61259841918945, 164.9550018310547, 9.186240196228027, 164.5350799560547], [63.74880599975586, 127.37649536132812, 170.49598693847656, 127.92420959472656, 169.58407592773438, 159.3466033935547, 63.01277160644531, 158.98265075683594], [176.3988494873047, 126.09495544433594, 326.6388244628906, 126.7027816772461, 324.76739501953125, 159.49635314941406, 174.6090850830078, 159.24569702148438], [333.6189880371094, 125.87908172607422, 506.6301574707031, 126.5103759765625, 504.9158935546875, 159.4134979248047, 330.7536926269531, 159.1941375732422], [507.28179931640625, 124.76233673095703, 605.8117065429688, 125.9264907836914, 605.6798706054688, 161.2373504638672, 505.6476745605469, 160.32855224609375], [9.55776309967041, 165.65306091308594, 62.251495361328125, 166.3245391845703, 62.15682601928711, 201.0757598876953, 9.455058097839355, 200.44993591308594], [64.06843566894531, 163.35610961914062, 171.38168334960938, 164.06935119628906, 170.41200256347656, 195.98239135742188, 63.23983383178711, 195.38555908203125], [178.59861755371094, 162.8989715576172, 325.6273498535156, 163.6446533203125, 323.9396667480469, 197.7252197265625, 176.73245239257812, 197.31527709960938], [331.9245910644531, 162.9199676513672, 506.7200927734375, 163.57701110839844, 505.13787841796875, 197.06729125976562, 329.09783935546875, 196.80154418945312], [510.4565734863281, 161.91046142578125, 606.294921875, 163.26321411132812, 606.1995849609375, 200.283447265625, 509.309814453125, 199.2068634033203], [9.401562690734863, 202.99163818359375, 63.84613037109375, 203.5674285888672, 63.725616455078125, 237.55441284179688, 9.271334648132324, 236.93544006347656], [63.85347366333008, 200.828125, 171.27664184570312, 201.69119262695312, 170.29359436035156, 232.2119903564453, 62.94038391113281, 231.50743103027344], [177.28341674804688, 200.61105346679688, 321.1136169433594, 201.40625, 319.79119873046875, 234.40716552734375, 175.5762176513672, 233.93399047851562], [327.80517578125, 200.5103302001953, 502.7966003417969, 201.24571228027344, 501.3164978027344, 233.89474487304688, 325.1112976074219, 233.5207977294922], [509.92333984375, 199.83287048339844, 605.6445922851562, 201.29586791992188, 605.54541015625, 237.50320434570312, 508.828369140625, 236.3234100341797], [7.328273296356201, 239.0823974609375, 67.36458587646484, 239.8627166748047, 67.2987289428711, 273.7799377441406, 7.231460094451904, 272.98077392578125], [63.29518508911133, 236.85182189941406, 170.61819458007812, 237.98829650878906, 169.5034942626953, 267.7815246582031, 62.369102478027344, 266.8733215332031], [178.42007446289062, 237.419189453125, 319.7716369628906, 238.34237670898438, 318.5718078613281, 270.554931640625, 176.7420196533203, 269.9733581542969], [331.2877502441406, 237.3541717529297, 506.6377868652344, 238.0636749267578, 505.2033386230469, 270.4309997558594, 328.51226806640625, 270.076416015625], [509.6820373535156, 236.73480224609375, 605.5228271484375, 238.18966674804688, 605.4346313476562, 273.25286865234375, 508.81292724609375, 272.0893859863281], [6.0180792808532715, 274.6066589355469, 63.35227966308594, 275.37548828125, 63.01176834106445, 309.94378662109375, 5.928253173828125, 309.2057800292969], [62.35436248779297, 273.0452880859375, 173.2317352294922, 274.2897644042969, 171.90435791015625, 304.7180480957031, 61.29584884643555, 303.76104736328125], [177.51914978027344, 273.5263366699219, 322.0245361328125, 274.53759765625, 320.5327453613281, 306.3623962402344, 175.4147186279297, 305.7215881347656], [334.1465148925781, 273.2333679199219, 507.8864440917969, 274.0739440917969, 506.39886474609375, 306.1269836425781, 331.14697265625, 305.6570129394531], [510.9035339355469, 272.62677001953125, 605.9312744140625, 274.2640686035156, 605.8565063476562, 307.4498596191406, 510.1582946777344, 306.20745849609375], [6.462155818939209, 309.1988525390625, 60.36494827270508, 310.3631591796875, 59.98186111450195, 342.7240905761719, 6.325014591217041, 341.84698486328125], [61.71965408325195, 308.3209533691406, 171.86273193359375, 309.8034973144531, 170.38397216796875, 340.2406311035156, 60.6243782043457, 339.2451171875], [177.7815399169922, 308.7275695800781, 323.6608581542969, 310.0273132324219, 321.9688415527344, 343.10302734375, 175.5097198486328, 342.3448181152344], [333.9765625, 308.8465576171875, 507.1181945800781, 309.78857421875, 505.7331848144531, 343.5849914550781, 331.06549072265625, 343.0575866699219], [509.7497863769531, 308.66796875, 606.2850952148438, 310.2574462890625, 606.2135009765625, 345.62689208984375, 508.76605224609375, 344.69775390625], [3.0516788959503174, 341.9544982910156, 218.18154907226562, 343.04364013671875, 214.851806640625, 382.84320068359375, 2.924067974090576, 382.55621337890625]], 'html': '<html><body><table><tbody><tr><td colspan=\"5\">TABLE 1 Sales Data of Electronic Division</td></tr><tr><td>NO</td><td>CUSTOMER</td><td>ITEM</td><td>DATE</td><td>AMOUNT</td></tr><tr><td>1</td><td> Andrew</td><td>Television </td><td>June 07, 2016</td><td>2,500</td></tr><tr><td>2</td><td>Bryan</td><td>Washing Machine </td><td>July 10, 2016</td><td>1,100</td></tr><tr><td>3</td><td> Cherly</td><td>Water Dispenser</td><td>August 1l, 2016</td><td>95</td></tr><tr><td>4 </td><td> Dean</td><td> Refrigerator</td><td> September 15,2016</td><td>583</td></tr><tr><td>5</td><td>Esryl </td><td>Wall Fan </td><td> October 11, 2016</td><td>45</td></tr><tr><td>6</td><td> Franky</td><td> Steam Iron </td><td>October 17, 2016</td><td></td></tr><tr><td>7</td><td>Gerry</td><td> Air Conditioner</td><td>November 17, 2016 </td><td>325 4,648</td></tr><tr><td colspan=\"5\">TOTAL</td></tr></tbody></table></body></html>'}, 'img_idx': 0}\n"
          ]
        }
      ],
      "source": [
        "import os\n",
        "import cv2\n",
        "from paddleocr import PPStructure,save_structure_res\n",
        "\n",
        "table_engine = PPStructure(layout=False, show_log=True)\n",
        "image_name = '333.png'\n",
        "img_path = os.path.join('/content', image_name)\n",
        "save_folder = '/content'\n",
        "img = cv2.imread(img_path)\n",
        "result = table_engine(img)\n",
        "save_structure_res(result, save_folder, os.path.basename(img_path).split('.')[0])\n",
        "\n",
        "for line in result:\n",
        "    line.pop('img')\n",
        "    print(line)\n"
      ]
    }
  ],
  "metadata": {
    "colab": {
      "provenance": []
    },
    "kernelspec": {
      "display_name": "paddle",
      "language": "python",
      "name": "paddle"
    },
    "language_info": {
      "codemirror_mode": {
        "name": "ipython",
        "version": 3
      },
      "file_extension": ".py",
      "mimetype": "text/x-python",
      "name": "python",
      "nbconvert_exporter": "python",
      "pygments_lexer": "ipython3",
      "version": "3.7.3"
    }
  },
  "nbformat": 4,
  "nbformat_minor": 5
}
